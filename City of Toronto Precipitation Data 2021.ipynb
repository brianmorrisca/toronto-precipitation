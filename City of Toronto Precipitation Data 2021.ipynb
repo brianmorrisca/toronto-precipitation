{
 "cells": [
  {
   "cell_type": "markdown",
   "id": "931f6a23",
   "metadata": {},
   "source": [
    "# City of Toronto Precipitation Data 2021\n",
    "\n",
    "Source: https://open.toronto.ca/dataset/rain-gauge-locations-and-precipitation/"
   ]
  },
  {
   "cell_type": "code",
   "execution_count": 1,
   "id": "9256d0a8",
   "metadata": {},
   "outputs": [],
   "source": [
    "import pandas as pd"
   ]
  },
  {
   "cell_type": "code",
   "execution_count": 2,
   "id": "24c88c16",
   "metadata": {},
   "outputs": [],
   "source": [
    "rain_data = pd.read_csv(\"precipitation-data-2021.csv\")"
   ]
  },
  {
   "cell_type": "code",
   "execution_count": 16,
   "id": "5a898aad",
   "metadata": {},
   "outputs": [
    {
     "data": {
      "text/plain": [
       "pandas.core.frame.DataFrame"
      ]
     },
     "execution_count": 16,
     "metadata": {},
     "output_type": "execute_result"
    }
   ],
   "source": [
    "type(rain_data)"
   ]
  },
  {
   "cell_type": "code",
   "execution_count": 3,
   "id": "48fad815",
   "metadata": {},
   "outputs": [
    {
     "data": {
      "text/html": [
       "<div>\n",
       "<style scoped>\n",
       "    .dataframe tbody tr th:only-of-type {\n",
       "        vertical-align: middle;\n",
       "    }\n",
       "\n",
       "    .dataframe tbody tr th {\n",
       "        vertical-align: top;\n",
       "    }\n",
       "\n",
       "    .dataframe thead th {\n",
       "        text-align: right;\n",
       "    }\n",
       "</style>\n",
       "<table border=\"1\" class=\"dataframe\">\n",
       "  <thead>\n",
       "    <tr style=\"text-align: right;\">\n",
       "      <th></th>\n",
       "      <th>id</th>\n",
       "      <th>rainfall</th>\n",
       "      <th>longitude</th>\n",
       "      <th>latitude</th>\n",
       "    </tr>\n",
       "  </thead>\n",
       "  <tbody>\n",
       "    <tr>\n",
       "      <th>count</th>\n",
       "      <td>5.210937e+06</td>\n",
       "      <td>5.204426e+06</td>\n",
       "      <td>5.210937e+06</td>\n",
       "      <td>5.210937e+06</td>\n",
       "    </tr>\n",
       "    <tr>\n",
       "      <th>mean</th>\n",
       "      <td>8.372380e+03</td>\n",
       "      <td>7.365671e-03</td>\n",
       "      <td>-7.940380e+01</td>\n",
       "      <td>4.372055e+01</td>\n",
       "    </tr>\n",
       "    <tr>\n",
       "      <th>std</th>\n",
       "      <td>1.957056e+03</td>\n",
       "      <td>1.067794e-01</td>\n",
       "      <td>1.154260e-01</td>\n",
       "      <td>5.343313e-02</td>\n",
       "    </tr>\n",
       "    <tr>\n",
       "      <th>min</th>\n",
       "      <td>7.674000e+03</td>\n",
       "      <td>0.000000e+00</td>\n",
       "      <td>-7.958503e+01</td>\n",
       "      <td>4.360813e+01</td>\n",
       "    </tr>\n",
       "    <tr>\n",
       "      <th>25%</th>\n",
       "      <td>7.686000e+03</td>\n",
       "      <td>0.000000e+00</td>\n",
       "      <td>-7.951261e+01</td>\n",
       "      <td>4.367672e+01</td>\n",
       "    </tr>\n",
       "    <tr>\n",
       "      <th>50%</th>\n",
       "      <td>7.699000e+03</td>\n",
       "      <td>0.000000e+00</td>\n",
       "      <td>-7.940692e+01</td>\n",
       "      <td>4.372393e+01</td>\n",
       "    </tr>\n",
       "    <tr>\n",
       "      <th>75%</th>\n",
       "      <td>7.712000e+03</td>\n",
       "      <td>0.000000e+00</td>\n",
       "      <td>-7.932013e+01</td>\n",
       "      <td>4.376901e+01</td>\n",
       "    </tr>\n",
       "    <tr>\n",
       "      <th>max</th>\n",
       "      <td>1.421300e+04</td>\n",
       "      <td>8.316600e+01</td>\n",
       "      <td>-7.914841e+01</td>\n",
       "      <td>4.381845e+01</td>\n",
       "    </tr>\n",
       "  </tbody>\n",
       "</table>\n",
       "</div>"
      ],
      "text/plain": [
       "                 id      rainfall     longitude      latitude\n",
       "count  5.210937e+06  5.204426e+06  5.210937e+06  5.210937e+06\n",
       "mean   8.372380e+03  7.365671e-03 -7.940380e+01  4.372055e+01\n",
       "std    1.957056e+03  1.067794e-01  1.154260e-01  5.343313e-02\n",
       "min    7.674000e+03  0.000000e+00 -7.958503e+01  4.360813e+01\n",
       "25%    7.686000e+03  0.000000e+00 -7.951261e+01  4.367672e+01\n",
       "50%    7.699000e+03  0.000000e+00 -7.940692e+01  4.372393e+01\n",
       "75%    7.712000e+03  0.000000e+00 -7.932013e+01  4.376901e+01\n",
       "max    1.421300e+04  8.316600e+01 -7.914841e+01  4.381845e+01"
      ]
     },
     "execution_count": 3,
     "metadata": {},
     "output_type": "execute_result"
    }
   ],
   "source": [
    "rain_data.describe()"
   ]
  },
  {
   "cell_type": "code",
   "execution_count": 4,
   "id": "ccb656c4",
   "metadata": {},
   "outputs": [
    {
     "name": "stdout",
     "output_type": "stream",
     "text": [
      "<class 'pandas.core.frame.DataFrame'>\n",
      "RangeIndex: 5210937 entries, 0 to 5210936\n",
      "Data columns (total 6 columns):\n",
      " #   Column     Dtype  \n",
      "---  ------     -----  \n",
      " 0   id         int64  \n",
      " 1   name       object \n",
      " 2   date       object \n",
      " 3   rainfall   float64\n",
      " 4   longitude  float64\n",
      " 5   latitude   float64\n",
      "dtypes: float64(3), int64(1), object(2)\n",
      "memory usage: 238.5+ MB\n"
     ]
    }
   ],
   "source": [
    "rain_data.info()"
   ]
  },
  {
   "cell_type": "code",
   "execution_count": 5,
   "id": "d31ad041",
   "metadata": {},
   "outputs": [
    {
     "data": {
      "text/plain": [
       "id     name    date                 rainfall  longitude   latitude \n",
       "7674   RG_017  2021-01-01T00:00:00  0.000     -79.466028  43.697350    1\n",
       "7708   RG_042  2021-06-27T09:40:00  0.000     -79.261459  43.732970    1\n",
       "               2021-06-27T10:15:00  0.000     -79.261459  43.732970    1\n",
       "               2021-06-27T10:10:00  0.000     -79.261459  43.732970    1\n",
       "               2021-06-27T10:05:00  0.000     -79.261459  43.732970    1\n",
       "                                                                      ..\n",
       "7691   RG_022  2021-07-07T05:00:00  0.003     -79.365176  43.769066    1\n",
       "               2021-07-07T04:55:00  0.002     -79.365176  43.769066    1\n",
       "               2021-07-07T04:50:00  0.019     -79.365176  43.769066    1\n",
       "               2021-07-07T04:45:00  0.009     -79.365176  43.769066    1\n",
       "14213  RG_061  2021-12-31T23:55:00  0.000     -79.216829  43.740104    1\n",
       "Length: 5204426, dtype: int64"
      ]
     },
     "execution_count": 5,
     "metadata": {},
     "output_type": "execute_result"
    }
   ],
   "source": [
    "rain_data.value_counts()"
   ]
  },
  {
   "cell_type": "code",
   "execution_count": 10,
   "id": "5fa4576e",
   "metadata": {},
   "outputs": [
    {
     "data": {
      "text/html": [
       "<div>\n",
       "<style scoped>\n",
       "    .dataframe tbody tr th:only-of-type {\n",
       "        vertical-align: middle;\n",
       "    }\n",
       "\n",
       "    .dataframe tbody tr th {\n",
       "        vertical-align: top;\n",
       "    }\n",
       "\n",
       "    .dataframe thead th {\n",
       "        text-align: right;\n",
       "    }\n",
       "</style>\n",
       "<table border=\"1\" class=\"dataframe\">\n",
       "  <thead>\n",
       "    <tr style=\"text-align: right;\">\n",
       "      <th></th>\n",
       "      <th>id</th>\n",
       "      <th>name</th>\n",
       "      <th>date</th>\n",
       "      <th>rainfall</th>\n",
       "      <th>longitude</th>\n",
       "      <th>latitude</th>\n",
       "    </tr>\n",
       "  </thead>\n",
       "  <tbody>\n",
       "    <tr>\n",
       "      <th>0</th>\n",
       "      <td>7677</td>\n",
       "      <td>RG_001</td>\n",
       "      <td>2021-01-01T00:00:00</td>\n",
       "      <td>0.0</td>\n",
       "      <td>-79.478112</td>\n",
       "      <td>43.64768</td>\n",
       "    </tr>\n",
       "    <tr>\n",
       "      <th>1</th>\n",
       "      <td>7677</td>\n",
       "      <td>RG_001</td>\n",
       "      <td>2021-01-01T00:05:00</td>\n",
       "      <td>0.0</td>\n",
       "      <td>-79.478112</td>\n",
       "      <td>43.64768</td>\n",
       "    </tr>\n",
       "    <tr>\n",
       "      <th>2</th>\n",
       "      <td>7677</td>\n",
       "      <td>RG_001</td>\n",
       "      <td>2021-01-01T00:10:00</td>\n",
       "      <td>0.0</td>\n",
       "      <td>-79.478112</td>\n",
       "      <td>43.64768</td>\n",
       "    </tr>\n",
       "    <tr>\n",
       "      <th>3</th>\n",
       "      <td>7677</td>\n",
       "      <td>RG_001</td>\n",
       "      <td>2021-01-01T00:15:00</td>\n",
       "      <td>0.0</td>\n",
       "      <td>-79.478112</td>\n",
       "      <td>43.64768</td>\n",
       "    </tr>\n",
       "    <tr>\n",
       "      <th>4</th>\n",
       "      <td>7677</td>\n",
       "      <td>RG_001</td>\n",
       "      <td>2021-01-01T00:20:00</td>\n",
       "      <td>0.0</td>\n",
       "      <td>-79.478112</td>\n",
       "      <td>43.64768</td>\n",
       "    </tr>\n",
       "  </tbody>\n",
       "</table>\n",
       "</div>"
      ],
      "text/plain": [
       "     id    name                 date  rainfall  longitude  latitude\n",
       "0  7677  RG_001  2021-01-01T00:00:00       0.0 -79.478112  43.64768\n",
       "1  7677  RG_001  2021-01-01T00:05:00       0.0 -79.478112  43.64768\n",
       "2  7677  RG_001  2021-01-01T00:10:00       0.0 -79.478112  43.64768\n",
       "3  7677  RG_001  2021-01-01T00:15:00       0.0 -79.478112  43.64768\n",
       "4  7677  RG_001  2021-01-01T00:20:00       0.0 -79.478112  43.64768"
      ]
     },
     "execution_count": 10,
     "metadata": {},
     "output_type": "execute_result"
    }
   ],
   "source": [
    "rain_data.head()"
   ]
  },
  {
   "cell_type": "code",
   "execution_count": 11,
   "id": "80bb3baa",
   "metadata": {},
   "outputs": [
    {
     "data": {
      "text/plain": [
       "0          2021-01-01T00:00:00\n",
       "1          2021-01-01T00:05:00\n",
       "2          2021-01-01T00:10:00\n",
       "3          2021-01-01T00:15:00\n",
       "4          2021-01-01T00:20:00\n",
       "                  ...         \n",
       "5210932    2021-12-31T23:35:00\n",
       "5210933    2021-12-31T23:40:00\n",
       "5210934    2021-12-31T23:45:00\n",
       "5210935    2021-12-31T23:50:00\n",
       "5210936    2021-12-31T23:55:00\n",
       "Name: date, Length: 5210937, dtype: object"
      ]
     },
     "execution_count": 11,
     "metadata": {},
     "output_type": "execute_result"
    }
   ],
   "source": [
    "rain_data.date"
   ]
  },
  {
   "cell_type": "code",
   "execution_count": 14,
   "id": "f55f6c6b",
   "metadata": {},
   "outputs": [
    {
     "data": {
      "text/plain": [
       "Index(['id', 'name', 'date', 'rainfall', 'longitude', 'latitude'], dtype='object')"
      ]
     },
     "execution_count": 14,
     "metadata": {},
     "output_type": "execute_result"
    }
   ],
   "source": [
    "rain_data.columns"
   ]
  },
  {
   "cell_type": "code",
   "execution_count": 19,
   "id": "2ac7b71b",
   "metadata": {},
   "outputs": [
    {
     "data": {
      "text/plain": [
       "38334.088008521394"
      ]
     },
     "execution_count": 19,
     "metadata": {},
     "output_type": "execute_result"
    }
   ],
   "source": [
    "rain_data['rainfall'].sum()"
   ]
  },
  {
   "cell_type": "code",
   "execution_count": 21,
   "id": "a4d2ac78",
   "metadata": {},
   "outputs": [],
   "source": [
    "# Total amount of rainfall measured in Toronto during 2021 was 38 liters"
   ]
  },
  {
   "cell_type": "code",
   "execution_count": null,
   "id": "1b86c0aa",
   "metadata": {},
   "outputs": [],
   "source": []
  }
 ],
 "metadata": {
  "kernelspec": {
   "display_name": "Python 3 (ipykernel)",
   "language": "python",
   "name": "python3"
  },
  "language_info": {
   "codemirror_mode": {
    "name": "ipython",
    "version": 3
   },
   "file_extension": ".py",
   "mimetype": "text/x-python",
   "name": "python",
   "nbconvert_exporter": "python",
   "pygments_lexer": "ipython3",
   "version": "3.9.7"
  }
 },
 "nbformat": 4,
 "nbformat_minor": 5
}
